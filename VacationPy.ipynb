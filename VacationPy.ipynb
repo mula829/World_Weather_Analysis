{
 "cells": [
  {
   "cell_type": "code",
   "execution_count": 1,
   "id": "7ca40ac9",
   "metadata": {},
   "outputs": [],
   "source": [
    "# Import the dependencies.\n",
    "import pandas as pd\n",
    "import gmaps\n",
    "import requests\n",
    "# Import the API key.\n",
    "from config import g_key"
   ]
  },
  {
   "cell_type": "code",
   "execution_count": 2,
   "id": "6b183185-8495-466d-92cd-6fd0db2a3431",
   "metadata": {},
   "outputs": [
    {
     "data": {
      "text/html": [
       "<div>\n",
       "<style scoped>\n",
       "    .dataframe tbody tr th:only-of-type {\n",
       "        vertical-align: middle;\n",
       "    }\n",
       "\n",
       "    .dataframe tbody tr th {\n",
       "        vertical-align: top;\n",
       "    }\n",
       "\n",
       "    .dataframe thead th {\n",
       "        text-align: right;\n",
       "    }\n",
       "</style>\n",
       "<table border=\"1\" class=\"dataframe\">\n",
       "  <thead>\n",
       "    <tr style=\"text-align: right;\">\n",
       "      <th></th>\n",
       "      <th>City_ID</th>\n",
       "      <th>City</th>\n",
       "      <th>Country</th>\n",
       "      <th>Lat</th>\n",
       "      <th>Lng</th>\n",
       "      <th>Max Temp</th>\n",
       "      <th>Humidity</th>\n",
       "      <th>Cloudiness</th>\n",
       "      <th>Wind Speed</th>\n",
       "    </tr>\n",
       "  </thead>\n",
       "  <tbody>\n",
       "    <tr>\n",
       "      <th>0</th>\n",
       "      <td>0</td>\n",
       "      <td>Half Moon Bay</td>\n",
       "      <td>US</td>\n",
       "      <td>37.4636</td>\n",
       "      <td>-122.4286</td>\n",
       "      <td>99.88</td>\n",
       "      <td>14</td>\n",
       "      <td>0</td>\n",
       "      <td>19.57</td>\n",
       "    </tr>\n",
       "    <tr>\n",
       "      <th>1</th>\n",
       "      <td>1</td>\n",
       "      <td>Port Alfred</td>\n",
       "      <td>ZA</td>\n",
       "      <td>-33.5906</td>\n",
       "      <td>26.8910</td>\n",
       "      <td>64.06</td>\n",
       "      <td>86</td>\n",
       "      <td>100</td>\n",
       "      <td>15.37</td>\n",
       "    </tr>\n",
       "    <tr>\n",
       "      <th>2</th>\n",
       "      <td>2</td>\n",
       "      <td>Florianopolis</td>\n",
       "      <td>BR</td>\n",
       "      <td>-27.6146</td>\n",
       "      <td>-48.5012</td>\n",
       "      <td>65.35</td>\n",
       "      <td>98</td>\n",
       "      <td>75</td>\n",
       "      <td>6.91</td>\n",
       "    </tr>\n",
       "    <tr>\n",
       "      <th>3</th>\n",
       "      <td>3</td>\n",
       "      <td>Bluff</td>\n",
       "      <td>NZ</td>\n",
       "      <td>-46.6000</td>\n",
       "      <td>168.3333</td>\n",
       "      <td>48.79</td>\n",
       "      <td>73</td>\n",
       "      <td>3</td>\n",
       "      <td>4.07</td>\n",
       "    </tr>\n",
       "    <tr>\n",
       "      <th>4</th>\n",
       "      <td>4</td>\n",
       "      <td>Luanda</td>\n",
       "      <td>AO</td>\n",
       "      <td>-8.8368</td>\n",
       "      <td>13.2343</td>\n",
       "      <td>68.00</td>\n",
       "      <td>83</td>\n",
       "      <td>75</td>\n",
       "      <td>4.61</td>\n",
       "    </tr>\n",
       "  </tbody>\n",
       "</table>\n",
       "</div>"
      ],
      "text/plain": [
       "   City_ID           City Country      Lat       Lng  Max Temp  Humidity  \\\n",
       "0        0  Half Moon Bay      US  37.4636 -122.4286     99.88        14   \n",
       "1        1    Port Alfred      ZA -33.5906   26.8910     64.06        86   \n",
       "2        2  Florianopolis      BR -27.6146  -48.5012     65.35        98   \n",
       "3        3          Bluff      NZ -46.6000  168.3333     48.79        73   \n",
       "4        4         Luanda      AO  -8.8368   13.2343     68.00        83   \n",
       "\n",
       "   Cloudiness  Wind Speed  \n",
       "0           0       19.57  \n",
       "1         100       15.37  \n",
       "2          75        6.91  \n",
       "3           3        4.07  \n",
       "4          75        4.61  "
      ]
     },
     "execution_count": 2,
     "metadata": {},
     "output_type": "execute_result"
    }
   ],
   "source": [
    "# Store the CSV you saved created in part one into a DataFrame.\n",
    "city_data_df = pd.read_csv(\"weather_data/cities.csv\")\n",
    "city_data_df.head()"
   ]
  },
  {
   "cell_type": "code",
   "execution_count": 3,
   "id": "ed938b4b-9c24-4b3f-a8c2-a48f60fed83f",
   "metadata": {},
   "outputs": [
    {
     "data": {
      "text/plain": [
       "City_ID         int64\n",
       "City           object\n",
       "Country        object\n",
       "Lat           float64\n",
       "Lng           float64\n",
       "Max Temp      float64\n",
       "Humidity        int64\n",
       "Cloudiness      int64\n",
       "Wind Speed    float64\n",
       "dtype: object"
      ]
     },
     "execution_count": 3,
     "metadata": {},
     "output_type": "execute_result"
    }
   ],
   "source": [
    "# Get the data types.\n",
    "city_data_df.dtypes"
   ]
  },
  {
   "cell_type": "code",
   "execution_count": 4,
   "id": "2cf059a7-f3b3-4909-9868-2ff3a9c9b9a7",
   "metadata": {},
   "outputs": [],
   "source": [
    "# Configure gmaps to use your Google API key.\n",
    "gmaps.configure(api_key=g_key)"
   ]
  },
  {
   "cell_type": "code",
   "execution_count": 5,
   "id": "03713c42-fee6-4373-a2c7-c147870ba414",
   "metadata": {},
   "outputs": [
    {
     "data": {
      "application/vnd.jupyter.widget-view+json": {
       "model_id": "3641104942504da3b769fdcb1a155b2a",
       "version_major": 2,
       "version_minor": 0
      },
      "text/plain": [
       "Figure(layout=FigureLayout(height='420px'))"
      ]
     },
     "metadata": {},
     "output_type": "display_data"
    }
   ],
   "source": [
    "# Heatmap of temperature\n",
    "# Get the latitude and longitude.\n",
    "locations = city_data_df[[\"Lat\", \"Lng\"]]\n",
    "# Get the maximum temperature.\n",
    "max_temp = city_data_df[\"Max Temp\"]\n",
    "# Assign the figure variable.\n",
    "fig = gmaps.figure()\n",
    "# Assign the heatmap variable.\n",
    "heat_layer = gmaps.heatmap_layer(locations, weights=max_temp)\n",
    "# Add the heatmap layer.\n",
    "fig.add_layer(heat_layer)\n",
    "# Call the figure to plot the data.\n",
    "fig"
   ]
  },
  {
   "cell_type": "code",
   "execution_count": 6,
   "id": "51b0744d-8998-4c2e-9663-0db626ca897a",
   "metadata": {},
   "outputs": [],
   "source": [
    "heat_layer = gmaps.heatmap_layer(locations, weights=max_temp)"
   ]
  },
  {
   "cell_type": "code",
   "execution_count": 7,
   "id": "31438473",
   "metadata": {},
   "outputs": [],
   "source": [
    "# Get the maximum temperature.\n",
    "max_temp = city_data_df[\"Max Temp\"]\n",
    "temps = []\n",
    "for temp in max_temp:\n",
    "    temps.append(max(temp, 0))"
   ]
  },
  {
   "cell_type": "code",
   "execution_count": 8,
   "id": "a4242a0a",
   "metadata": {
    "scrolled": true
   },
   "outputs": [
    {
     "data": {
      "application/vnd.jupyter.widget-view+json": {
       "model_id": "910b62566f5c420f9be67dc82b5fdb09",
       "version_major": 2,
       "version_minor": 0
      },
      "text/plain": [
       "Figure(layout=FigureLayout(height='420px'))"
      ]
     },
     "metadata": {},
     "output_type": "display_data"
    }
   ],
   "source": [
    "# Heatmap of temperature\n",
    "# Get the latitude and longitude.\n",
    "locations = city_data_df[[\"Lat\", \"Lng\"]]\n",
    "# Get the maximum temperature.\n",
    "max_temp = city_data_df[\"Max Temp\"]\n",
    "# Assign the figure variable.\n",
    "fig = gmaps.figure()\n",
    "# Assign the heatmap variable.\n",
    "heat_layer = gmaps.heatmap_layer(locations, weights=[max(temp, 0) for temp in max_temp])\n",
    "# Add the heatmap layer.\n",
    "fig.add_layer(heat_layer)\n",
    "# Call the figure to plot the data.\n",
    "fig"
   ]
  },
  {
   "cell_type": "code",
   "execution_count": 9,
   "id": "e54b1efa",
   "metadata": {
    "scrolled": true
   },
   "outputs": [
    {
     "data": {
      "application/vnd.jupyter.widget-view+json": {
       "model_id": "972c23b8669847d88e2bda9bafa275d9",
       "version_major": 2,
       "version_minor": 0
      },
      "text/plain": [
       "Figure(layout=FigureLayout(height='420px'))"
      ]
     },
     "metadata": {},
     "output_type": "display_data"
    }
   ],
   "source": [
    "fig = gmaps.figure(center=(30.0, 31.0), zoom_level=1.5)\n",
    "fig"
   ]
  },
  {
   "cell_type": "code",
   "execution_count": 10,
   "id": "6f7ed558",
   "metadata": {},
   "outputs": [
    {
     "data": {
      "application/vnd.jupyter.widget-view+json": {
       "model_id": "34bc95410d8147c3831e6cd643dccb3b",
       "version_major": 2,
       "version_minor": 0
      },
      "text/plain": [
       "Figure(layout=FigureLayout(height='420px'))"
      ]
     },
     "metadata": {},
     "output_type": "display_data"
    }
   ],
   "source": [
    "# Heatmap of temperature\n",
    "# Get the latitude and longitude.\n",
    "locations = city_data_df[[\"Lat\", \"Lng\"]]\n",
    "# Get the maximum temperature.\n",
    "max_temp = city_data_df[\"Max Temp\"]\n",
    "# Assign the figure variable.\n",
    "fig = gmaps.figure()\n",
    "# Assign the heatmap variable.\n",
    "heat_layer = gmaps.heatmap_layer(locations, weights=[max(temp, 0) for temp in max_temp], dissipating=False, max_intensity=300, point_radius=4)\n",
    "# Add the heatmap layer.\n",
    "fig.add_layer(heat_layer)\n",
    "# Call the figure to plot the data.\n",
    "fig"
   ]
  },
  {
   "cell_type": "code",
   "execution_count": 11,
   "id": "a77ee7bb",
   "metadata": {},
   "outputs": [
    {
     "data": {
      "application/vnd.jupyter.widget-view+json": {
       "model_id": "2da6c39628bb4110ad3b8a965bbd96b8",
       "version_major": 2,
       "version_minor": 0
      },
      "text/plain": [
       "Figure(layout=FigureLayout(height='420px'))"
      ]
     },
     "metadata": {},
     "output_type": "display_data"
    }
   ],
   "source": [
    "# Heatmap of percent humidity\n",
    "locations = city_data_df[[\"Lat\", \"Lng\"]]\n",
    "humidity = city_data_df[\"Humidity\"]\n",
    "fig = gmaps.figure(center=(30.0, 31.0), zoom_level=1.5)\n",
    "heat_layer = gmaps.heatmap_layer(locations, weights=humidity, dissipating=False, max_intensity=300, point_radius=4)\n",
    "\n",
    "fig.add_layer(heat_layer)\n",
    "# Call the figure to plot the data.\n",
    "fig"
   ]
  },
  {
   "cell_type": "code",
   "execution_count": 12,
   "id": "058566cc",
   "metadata": {},
   "outputs": [
    {
     "data": {
      "application/vnd.jupyter.widget-view+json": {
       "model_id": "a168f60ec5d544b6a6ea04667cc0d1df",
       "version_major": 2,
       "version_minor": 0
      },
      "text/plain": [
       "Figure(layout=FigureLayout(height='420px'))"
      ]
     },
     "metadata": {},
     "output_type": "display_data"
    }
   ],
   "source": [
    "# Heatmap of percent humidity\n",
    "locations = city_data_df[[\"Lat\", \"Lng\"]]\n",
    "clouds = city_data_df[\"Cloudiness\"]\n",
    "fig = gmaps.figure(center=(30.0, 31.0), zoom_level=1.5)\n",
    "heat_layer = gmaps.heatmap_layer(locations, weights=clouds, dissipating=False, max_intensity=300, point_radius=4)\n",
    "\n",
    "fig.add_layer(heat_layer)\n",
    "# Call the figure to plot the data.\n",
    "fig"
   ]
  },
  {
   "cell_type": "code",
   "execution_count": 13,
   "id": "0c462f89",
   "metadata": {},
   "outputs": [
    {
     "data": {
      "application/vnd.jupyter.widget-view+json": {
       "model_id": "ac49b081778b4c4caeff2b1a9b74ec4a",
       "version_major": 2,
       "version_minor": 0
      },
      "text/plain": [
       "Figure(layout=FigureLayout(height='420px'))"
      ]
     },
     "metadata": {},
     "output_type": "display_data"
    }
   ],
   "source": [
    "# Heatmap of percent humidity\n",
    "locations = city_data_df[[\"Lat\", \"Lng\"]]\n",
    "winds = city_data_df[\"Wind Speed\"]\n",
    "fig = gmaps.figure(center=(30.0, 31.0), zoom_level=1.5)\n",
    "heat_layer = gmaps.heatmap_layer(locations, weights=winds, dissipating=False, max_intensity=300, point_radius=4)\n",
    "\n",
    "fig.add_layer(heat_layer)\n",
    "# Call the figure to plot the data.\n",
    "fig"
   ]
  },
  {
   "cell_type": "code",
   "execution_count": 14,
   "id": "bce4330d",
   "metadata": {},
   "outputs": [
    {
     "name": "stdout",
     "output_type": "stream",
     "text": [
      "What is the minimum temperature you would like for your trip? 70\n",
      "What is the maximum temperature you would like for your trip? 90\n"
     ]
    }
   ],
   "source": [
    "# Ask the customer to add a minimum and maximum temperature value.\n",
    "min_temp = float(input(\"What is the minimum temperature you would like for your trip? \"))\n",
    "max_temp = float(input(\"What is the maximum temperature you would like for your trip? \"))"
   ]
  },
  {
   "cell_type": "code",
   "execution_count": 15,
   "id": "99923afa",
   "metadata": {},
   "outputs": [
    {
     "data": {
      "text/html": [
       "<div>\n",
       "<style scoped>\n",
       "    .dataframe tbody tr th:only-of-type {\n",
       "        vertical-align: middle;\n",
       "    }\n",
       "\n",
       "    .dataframe tbody tr th {\n",
       "        vertical-align: top;\n",
       "    }\n",
       "\n",
       "    .dataframe thead th {\n",
       "        text-align: right;\n",
       "    }\n",
       "</style>\n",
       "<table border=\"1\" class=\"dataframe\">\n",
       "  <thead>\n",
       "    <tr style=\"text-align: right;\">\n",
       "      <th></th>\n",
       "      <th>City_ID</th>\n",
       "      <th>City</th>\n",
       "      <th>Country</th>\n",
       "      <th>Lat</th>\n",
       "      <th>Lng</th>\n",
       "      <th>Max Temp</th>\n",
       "      <th>Humidity</th>\n",
       "      <th>Cloudiness</th>\n",
       "      <th>Wind Speed</th>\n",
       "    </tr>\n",
       "  </thead>\n",
       "  <tbody>\n",
       "    <tr>\n",
       "      <th>6</th>\n",
       "      <td>6</td>\n",
       "      <td>Bathsheba</td>\n",
       "      <td>BB</td>\n",
       "      <td>13.2167</td>\n",
       "      <td>-59.5167</td>\n",
       "      <td>81.21</td>\n",
       "      <td>83</td>\n",
       "      <td>40</td>\n",
       "      <td>12.66</td>\n",
       "    </tr>\n",
       "    <tr>\n",
       "      <th>12</th>\n",
       "      <td>12</td>\n",
       "      <td>Lorengau</td>\n",
       "      <td>PG</td>\n",
       "      <td>-2.0226</td>\n",
       "      <td>147.2712</td>\n",
       "      <td>84.09</td>\n",
       "      <td>70</td>\n",
       "      <td>100</td>\n",
       "      <td>7.27</td>\n",
       "    </tr>\n",
       "    <tr>\n",
       "      <th>13</th>\n",
       "      <td>13</td>\n",
       "      <td>Tura</td>\n",
       "      <td>IN</td>\n",
       "      <td>25.5198</td>\n",
       "      <td>90.2201</td>\n",
       "      <td>81.43</td>\n",
       "      <td>74</td>\n",
       "      <td>53</td>\n",
       "      <td>4.09</td>\n",
       "    </tr>\n",
       "    <tr>\n",
       "      <th>15</th>\n",
       "      <td>15</td>\n",
       "      <td>Salalah</td>\n",
       "      <td>OM</td>\n",
       "      <td>17.0151</td>\n",
       "      <td>54.0924</td>\n",
       "      <td>82.49</td>\n",
       "      <td>89</td>\n",
       "      <td>75</td>\n",
       "      <td>11.50</td>\n",
       "    </tr>\n",
       "    <tr>\n",
       "      <th>16</th>\n",
       "      <td>16</td>\n",
       "      <td>Hamilton</td>\n",
       "      <td>US</td>\n",
       "      <td>39.1834</td>\n",
       "      <td>-84.5333</td>\n",
       "      <td>79.99</td>\n",
       "      <td>68</td>\n",
       "      <td>0</td>\n",
       "      <td>1.01</td>\n",
       "    </tr>\n",
       "    <tr>\n",
       "      <th>26</th>\n",
       "      <td>26</td>\n",
       "      <td>Itoman</td>\n",
       "      <td>JP</td>\n",
       "      <td>26.1247</td>\n",
       "      <td>127.6694</td>\n",
       "      <td>86.77</td>\n",
       "      <td>81</td>\n",
       "      <td>20</td>\n",
       "      <td>11.50</td>\n",
       "    </tr>\n",
       "    <tr>\n",
       "      <th>28</th>\n",
       "      <td>28</td>\n",
       "      <td>Howard Springs</td>\n",
       "      <td>AU</td>\n",
       "      <td>-12.4970</td>\n",
       "      <td>131.0470</td>\n",
       "      <td>82.98</td>\n",
       "      <td>51</td>\n",
       "      <td>51</td>\n",
       "      <td>14.23</td>\n",
       "    </tr>\n",
       "    <tr>\n",
       "      <th>30</th>\n",
       "      <td>30</td>\n",
       "      <td>Tsagan Aman</td>\n",
       "      <td>RU</td>\n",
       "      <td>47.5639</td>\n",
       "      <td>46.7218</td>\n",
       "      <td>76.44</td>\n",
       "      <td>39</td>\n",
       "      <td>69</td>\n",
       "      <td>6.15</td>\n",
       "    </tr>\n",
       "    <tr>\n",
       "      <th>31</th>\n",
       "      <td>31</td>\n",
       "      <td>Pozo Colorado</td>\n",
       "      <td>PY</td>\n",
       "      <td>-23.4923</td>\n",
       "      <td>-58.7972</td>\n",
       "      <td>71.22</td>\n",
       "      <td>61</td>\n",
       "      <td>63</td>\n",
       "      <td>3.44</td>\n",
       "    </tr>\n",
       "    <tr>\n",
       "      <th>34</th>\n",
       "      <td>34</td>\n",
       "      <td>Kapaa</td>\n",
       "      <td>US</td>\n",
       "      <td>22.0752</td>\n",
       "      <td>-159.3190</td>\n",
       "      <td>82.38</td>\n",
       "      <td>79</td>\n",
       "      <td>20</td>\n",
       "      <td>13.80</td>\n",
       "    </tr>\n",
       "  </tbody>\n",
       "</table>\n",
       "</div>"
      ],
      "text/plain": [
       "    City_ID            City Country      Lat       Lng  Max Temp  Humidity  \\\n",
       "6         6       Bathsheba      BB  13.2167  -59.5167     81.21        83   \n",
       "12       12        Lorengau      PG  -2.0226  147.2712     84.09        70   \n",
       "13       13            Tura      IN  25.5198   90.2201     81.43        74   \n",
       "15       15         Salalah      OM  17.0151   54.0924     82.49        89   \n",
       "16       16        Hamilton      US  39.1834  -84.5333     79.99        68   \n",
       "26       26          Itoman      JP  26.1247  127.6694     86.77        81   \n",
       "28       28  Howard Springs      AU -12.4970  131.0470     82.98        51   \n",
       "30       30     Tsagan Aman      RU  47.5639   46.7218     76.44        39   \n",
       "31       31   Pozo Colorado      PY -23.4923  -58.7972     71.22        61   \n",
       "34       34           Kapaa      US  22.0752 -159.3190     82.38        79   \n",
       "\n",
       "    Cloudiness  Wind Speed  \n",
       "6           40       12.66  \n",
       "12         100        7.27  \n",
       "13          53        4.09  \n",
       "15          75       11.50  \n",
       "16           0        1.01  \n",
       "26          20       11.50  \n",
       "28          51       14.23  \n",
       "30          69        6.15  \n",
       "31          63        3.44  \n",
       "34          20       13.80  "
      ]
     },
     "execution_count": 15,
     "metadata": {},
     "output_type": "execute_result"
    }
   ],
   "source": [
    "# Filter the dataset to find the cities that fit the criteria.\n",
    "preferred_cities_df = city_data_df.loc[(city_data_df[\"Max Temp\"] <= max_temp) & \\\n",
    "                                       (city_data_df[\"Max Temp\"] >= min_temp)]\n",
    "preferred_cities_df.head(10)"
   ]
  },
  {
   "cell_type": "code",
   "execution_count": 16,
   "id": "e4db5b4f",
   "metadata": {},
   "outputs": [
    {
     "data": {
      "text/plain": [
       "City_ID       251\n",
       "City          251\n",
       "Country       251\n",
       "Lat           251\n",
       "Lng           251\n",
       "Max Temp      251\n",
       "Humidity      251\n",
       "Cloudiness    251\n",
       "Wind Speed    251\n",
       "dtype: int64"
      ]
     },
     "execution_count": 16,
     "metadata": {},
     "output_type": "execute_result"
    }
   ],
   "source": [
    "preferred_cities_df.count()"
   ]
  },
  {
   "cell_type": "code",
   "execution_count": 17,
   "id": "972d9e93",
   "metadata": {},
   "outputs": [
    {
     "data": {
      "text/html": [
       "<div>\n",
       "<style scoped>\n",
       "    .dataframe tbody tr th:only-of-type {\n",
       "        vertical-align: middle;\n",
       "    }\n",
       "\n",
       "    .dataframe tbody tr th {\n",
       "        vertical-align: top;\n",
       "    }\n",
       "\n",
       "    .dataframe thead th {\n",
       "        text-align: right;\n",
       "    }\n",
       "</style>\n",
       "<table border=\"1\" class=\"dataframe\">\n",
       "  <thead>\n",
       "    <tr style=\"text-align: right;\">\n",
       "      <th></th>\n",
       "      <th>City</th>\n",
       "      <th>Country</th>\n",
       "      <th>Max Temp</th>\n",
       "      <th>Lat</th>\n",
       "      <th>Lng</th>\n",
       "      <th>Hotel Name</th>\n",
       "    </tr>\n",
       "  </thead>\n",
       "  <tbody>\n",
       "    <tr>\n",
       "      <th>6</th>\n",
       "      <td>Bathsheba</td>\n",
       "      <td>BB</td>\n",
       "      <td>81.21</td>\n",
       "      <td>13.2167</td>\n",
       "      <td>-59.5167</td>\n",
       "      <td></td>\n",
       "    </tr>\n",
       "    <tr>\n",
       "      <th>12</th>\n",
       "      <td>Lorengau</td>\n",
       "      <td>PG</td>\n",
       "      <td>84.09</td>\n",
       "      <td>-2.0226</td>\n",
       "      <td>147.2712</td>\n",
       "      <td></td>\n",
       "    </tr>\n",
       "    <tr>\n",
       "      <th>13</th>\n",
       "      <td>Tura</td>\n",
       "      <td>IN</td>\n",
       "      <td>81.43</td>\n",
       "      <td>25.5198</td>\n",
       "      <td>90.2201</td>\n",
       "      <td></td>\n",
       "    </tr>\n",
       "    <tr>\n",
       "      <th>15</th>\n",
       "      <td>Salalah</td>\n",
       "      <td>OM</td>\n",
       "      <td>82.49</td>\n",
       "      <td>17.0151</td>\n",
       "      <td>54.0924</td>\n",
       "      <td></td>\n",
       "    </tr>\n",
       "    <tr>\n",
       "      <th>16</th>\n",
       "      <td>Hamilton</td>\n",
       "      <td>US</td>\n",
       "      <td>79.99</td>\n",
       "      <td>39.1834</td>\n",
       "      <td>-84.5333</td>\n",
       "      <td></td>\n",
       "    </tr>\n",
       "    <tr>\n",
       "      <th>26</th>\n",
       "      <td>Itoman</td>\n",
       "      <td>JP</td>\n",
       "      <td>86.77</td>\n",
       "      <td>26.1247</td>\n",
       "      <td>127.6694</td>\n",
       "      <td></td>\n",
       "    </tr>\n",
       "    <tr>\n",
       "      <th>28</th>\n",
       "      <td>Howard Springs</td>\n",
       "      <td>AU</td>\n",
       "      <td>82.98</td>\n",
       "      <td>-12.4970</td>\n",
       "      <td>131.0470</td>\n",
       "      <td></td>\n",
       "    </tr>\n",
       "    <tr>\n",
       "      <th>30</th>\n",
       "      <td>Tsagan Aman</td>\n",
       "      <td>RU</td>\n",
       "      <td>76.44</td>\n",
       "      <td>47.5639</td>\n",
       "      <td>46.7218</td>\n",
       "      <td></td>\n",
       "    </tr>\n",
       "    <tr>\n",
       "      <th>31</th>\n",
       "      <td>Pozo Colorado</td>\n",
       "      <td>PY</td>\n",
       "      <td>71.22</td>\n",
       "      <td>-23.4923</td>\n",
       "      <td>-58.7972</td>\n",
       "      <td></td>\n",
       "    </tr>\n",
       "    <tr>\n",
       "      <th>34</th>\n",
       "      <td>Kapaa</td>\n",
       "      <td>US</td>\n",
       "      <td>82.38</td>\n",
       "      <td>22.0752</td>\n",
       "      <td>-159.3190</td>\n",
       "      <td></td>\n",
       "    </tr>\n",
       "  </tbody>\n",
       "</table>\n",
       "</div>"
      ],
      "text/plain": [
       "              City Country  Max Temp      Lat       Lng Hotel Name\n",
       "6        Bathsheba      BB     81.21  13.2167  -59.5167           \n",
       "12        Lorengau      PG     84.09  -2.0226  147.2712           \n",
       "13            Tura      IN     81.43  25.5198   90.2201           \n",
       "15         Salalah      OM     82.49  17.0151   54.0924           \n",
       "16        Hamilton      US     79.99  39.1834  -84.5333           \n",
       "26          Itoman      JP     86.77  26.1247  127.6694           \n",
       "28  Howard Springs      AU     82.98 -12.4970  131.0470           \n",
       "30     Tsagan Aman      RU     76.44  47.5639   46.7218           \n",
       "31   Pozo Colorado      PY     71.22 -23.4923  -58.7972           \n",
       "34           Kapaa      US     82.38  22.0752 -159.3190           "
      ]
     },
     "execution_count": 17,
     "metadata": {},
     "output_type": "execute_result"
    }
   ],
   "source": [
    "# Create DataFrame called hotel_df to store hotel names along with city, country, max temp, and coordinates.\n",
    "hotel_df = preferred_cities_df[[\"City\", \"Country\", \"Max Temp\", \"Lat\", \"Lng\"]].copy()\n",
    "hotel_df[\"Hotel Name\"] = \"\"\n",
    "hotel_df.head(10)"
   ]
  },
  {
   "cell_type": "code",
   "execution_count": 18,
   "id": "943fdc9c",
   "metadata": {},
   "outputs": [],
   "source": [
    "# Set parameters to search for a hotel.\n",
    "params = {\n",
    "    \"radius\": 5000,\n",
    "    \"type\": \"lodging\",\n",
    "    \"key\": g_key\n",
    "}"
   ]
  },
  {
   "cell_type": "code",
   "execution_count": 19,
   "id": "df26020b",
   "metadata": {},
   "outputs": [
    {
     "name": "stdout",
     "output_type": "stream",
     "text": [
      "Hotel not found... skipping.\n",
      "Hotel not found... skipping.\n",
      "Hotel not found... skipping.\n",
      "Hotel not found... skipping.\n",
      "Hotel not found... skipping.\n",
      "Hotel not found... skipping.\n",
      "Hotel not found... skipping.\n",
      "Hotel not found... skipping.\n",
      "Hotel not found... skipping.\n",
      "Hotel not found... skipping.\n",
      "Hotel not found... skipping.\n",
      "Hotel not found... skipping.\n",
      "Hotel not found... skipping.\n",
      "Hotel not found... skipping.\n",
      "Hotel not found... skipping.\n",
      "Hotel not found... skipping.\n",
      "Hotel not found... skipping.\n",
      "Hotel not found... skipping.\n",
      "Hotel not found... skipping.\n",
      "Hotel not found... skipping.\n",
      "Hotel not found... skipping.\n",
      "Hotel not found... skipping.\n",
      "Hotel not found... skipping.\n"
     ]
    }
   ],
   "source": [
    "# Iterate through the DataFrame.\n",
    "for index, row in hotel_df.iterrows():\n",
    "    # Get the latitude and longitude.\n",
    "    lat = row[\"Lat\"]\n",
    "    lng = row[\"Lng\"]\n",
    "\n",
    "    # Add the latitude and longitude to location key for the params dictionary.\n",
    "    params[\"location\"] = f\"{lat},{lng}\"\n",
    "\n",
    "    # Use the search term: \"lodging\" and our latitude and longitude.\n",
    "    base_url = \"https://maps.googleapis.com/maps/api/place/nearbysearch/json\"\n",
    "    # Make request and get the JSON data from the search.\n",
    "    hotels = requests.get(base_url, params=params).json()\n",
    "# Grab the first hotel from the results and store the name.\n",
    "    try:\n",
    "     hotel_df.loc[index, \"Hotel Name\"] = hotels[\"results\"][0][\"name\"]\n",
    "     \n",
    "    except (IndexError):\n",
    "            \n",
    "     print(\"Hotel not found... skipping.\")"
   ]
  },
  {
   "cell_type": "code",
   "execution_count": 38,
   "id": "03bace0c",
   "metadata": {},
   "outputs": [
    {
     "data": {
      "text/plain": [
       "array(['Atlantis Hotel', 'Lorengau Harbourside Hotel',\n",
       "       'Hotel RIKMAN Continental',\n",
       "       'HAMDAN PLAZA HOTEL SALALAH, an HTG Hotel',\n",
       "       'Six Acres Bed & Breakfast',\n",
       "       'Southern Beach Hotel & Resort Okinawa', 'buffalo beach hostel',\n",
       "       'Tirupathi', 'Hospedaje La Norteña',\n",
       "       'Sheraton Kauai Coconut Beach Resort', 'Hilo Hawaiian Hotel',\n",
       "       'Hampton Inn & Suites Jamestown', 'People ThankYou',\n",
       "       'Keleti Beach Resort', 'Scoop Guest House', 'Gostinitsa \"Sever\"',\n",
       "       'Hotel Edi', 'صاحبة الفخامة', 'Taung Hlay Khar',\n",
       "       'Kemping \"Turist\"', 'Gulisitan Hotel', 'The Explorer Hotel',\n",
       "       'Penginapan Kim', 'Osprey Beach Hotel', 'APEPDCL',\n",
       "       'Hébergement de la Poste', 'Yarada Jungle Beach Resorts',\n",
       "       'SanBiz Lodge', '7 Makara Hotel', 'Talnakh Hotel', \"Apel'sin\",\n",
       "       'Hotel West', '', 'Hotel Wixel', 'Hospitality Carnarvon',\n",
       "       'Best Western Kodiak Inn And Convention Center', 'Cititel Penang',\n",
       "       'Paradise Inn', 'Isles Sunset Lodge', 'Grand Kecubung Hotel',\n",
       "       'Achit Nuur Hotel & Restaurant',\n",
       "       'RedDoorz Syariah near Taman Berlabuh Tarakan',\n",
       "       'Quality Inn & Suites Gallup I-40 Exit 20', 'Pasportnyy Stol',\n",
       "       'Broadway Inn Missoula', 'Moon light Furnished Units',\n",
       "       'Thisara Guest House', 'Villa Enata', 'Pousada Porto Praia',\n",
       "       'Patel ni Motel', 'Hotel Xaguate', 'Hotel Zaraza',\n",
       "       'Erlyn’s Sta Rosa City Home', 'JI Hotel Zhenjiang Railway Station',\n",
       "       'IBCO REAL ESTATE PROPERTY', 'Northland Motor Hotel',\n",
       "       'Pousada Porto De Canoas', \"Benjie's Kubo & Cottages\",\n",
       "       'Bora-Bora Pearl Beach Resort & Spa', 'Ted McQuinn Trust',\n",
       "       'Hotel La Joya Isla Mujeres',\n",
       "       'Holiday Inn Express Roseville-St. Paul, an IHG Hotel',\n",
       "       'Pousada dos Navegantes', 'Hotel Ponta Verde Maceió',\n",
       "       'شهدان. ابوالحجر', 'Leumerus Bungalows', 'Katsuura Hotel Mikazuki',\n",
       "       'Swiss Belhotel Manokwari', 'Salinas Park Resort Maçarico AP101',\n",
       "       'Fengshui Residence', 'Changtan Tourism Resort',\n",
       "       \"Pike's Waterfront Lodge\", \"POUSADA TRAVÉS'CIA\", 'Screensaver',\n",
       "       'Matu Island', 'Quality Inn', 'International Lodge Motel',\n",
       "       'Nova Inn Inuvik', 'SEGAYA PROPERTY',\n",
       "       'Shell Hebei Shijiazhuang Luancheng Xinyuan Road Hotel',\n",
       "       'Villa Mar Colina', 'Aldea del Bazar Hotel and Spa', 'NUR',\n",
       "       'Hotel The Royal Honours', 'Courtyard by Marriott Carson City',\n",
       "       'Nusa Island Retreat',\n",
       "       'Embassy Suites by Hilton Portland Downtown', 'Tanna Lodge',\n",
       "       'The Brig', 'Fangyuan Hotel', 'Maitai Lapita Village Huahine',\n",
       "       'Hotel Grand Continental Kuala Terengganu (4 Star)',\n",
       "       'Barravento Hotel', 'Aklavik Inn', 'Yuanping Xinghe Guesthouse',\n",
       "       'Chenango Valley State Park', 'TazHostel', 'Guest Hotel', 'Masago',\n",
       "       'Steve Walden and Emma Sison-Walden Residence', 'Villa Bella',\n",
       "       'Le Monitel', 'Aspen Extended Stay Suites', 'Puri Brata',\n",
       "       'آپارتمان بزرگ اویسا',\n",
       "       'Hampton Inn & Suites Edgewood/Aberdeen-South',\n",
       "       'Hotel y restaurante \"El Diamante\"', 'Pondok Wisata Elim',\n",
       "       'Xichang ibis Hotel', 'Piergiorgio Palace Hotel',\n",
       "       'Hotel Manglares', 'Inubosaki Kanko Hotel', 'Sa Mansion By Yoho',\n",
       "       'JABIR HOTEL', 'Maui Seaside Hotel', 'Grand Hotel Semey',\n",
       "       'Astor Hotel', 'The Irish Village', 'Auberge Bon Coin 02',\n",
       "       'Grage Hotel Bengkulu', 'فندق الدويم', 'Waigo Splash Hotel',\n",
       "       'Hostal De Pedri', 'HOTEL 283 SUITES',\n",
       "       'Hilton Garden Inn Jonesboro', 'محمد هادي ال فطيح', 'Pension Oaoa',\n",
       "       'El rranchito michuacan de ocampos', 'Real Hotel', 'Yos ega cv',\n",
       "       'Kost Pria', 'Holiday Inn Express Lompoc, an IHG Hotel',\n",
       "       'Yijie Express Hotel', 'Quinta Samay',\n",
       "       \"Marriott's Ko Olina Beach Club\",\n",
       "       'Best Western Plus Menomonie Inn & Suites', 'Mini Central',\n",
       "       'Filipin Squad', 'Macs', 'Colpacaranda Eco Resort',\n",
       "       'Hotel Ballast Wilmington, Tapestry Collection by Hilton',\n",
       "       'Fakhamat Al Orjoana Apartment',\n",
       "       'Westmark Fairbanks Hotel & Conference Center',\n",
       "       'Iglesia morava renovada', 'Casa do Ian😎', 'Lavanta Residence',\n",
       "       'Yiranju Farmstay', 'Nitivos Beach Resort',\n",
       "       'Hotel Posada San Jose', 'Sambor Village Hotel',\n",
       "       \"Hospedaria ndozi'ame\",\n",
       "       'Yantai Seaside International Youth Hostel', 'Hotel la Favorita',\n",
       "       'Hotel Erik', 'Resort hotel Moana Coast', 'Gostinitsa \"Kneda\"',\n",
       "       'Lingao Ditai Inn', 'Best Western Fallon Inn & Suites',\n",
       "       'Business Inn Abe', 'Tahoe Lakeshore Lodge & Spa',\n",
       "       'Hotel Kou-Bugny', 'Sibiryachka', 'Hotels in Lakshadweep Islands',\n",
       "       'Lamana Hotel (Port Moresby)', 'Daru Lodge', 'Rabaul Hotel',\n",
       "       'Nuli Sapi', 'Eware Refugio Amazonico',\n",
       "       'Raybow International Hotel', 'Motel 6 Sinton, TX',\n",
       "       'Seagulls Inn Namatani', 'Monserrate', 'Circuit House',\n",
       "       'ibis Styles Mt Isa Verona', 'Royal Hotel', 'Hôtel Salama',\n",
       "       'Bonthe Holiday Village',\n",
       "       'Hanting Express Wenling Wanchang North Road',\n",
       "       'Imagination Island', \"Esquivel's Garden And Resort\",\n",
       "       'Curubo Hotel', 'Mystic Sands Beachfront Accommodation',\n",
       "       'Shangping Shuyuan Inn', 'ХАН', 'Atlântic Hotel',\n",
       "       'Golden Berries Hotel and Convention', 'Pousada do Luizão',\n",
       "       'Hotel Arena Blanca', '锦江酒店', 'The Retreat at the Farm',\n",
       "       'Jeevan Chhaya',\n",
       "       'GreenTree Alliance Hulunbeier Zhalantun Railway Station Hotel',\n",
       "       'Sokowindo Losmen', 'Days Inn & Suites by Wyndham Cochrane',\n",
       "       'Crôa Mares Hotel', 'Shishime Hotel', 'Legends Casino Hotel',\n",
       "       'Aparna Hotel', 'Pousada e churrascaria Manguaba',\n",
       "       'Hôtel Le Lagon', 'Toyoko Inn Iwaki Ekimae', 'Sítio Blasi',\n",
       "       'شرکت معماری مهراز شایگان آراد', 'Khách sạn Sài Gòn Bạc Liêu',\n",
       "       'Mondkor Town, Bagbo Chiefdom, Bo District', 'Haji Hotel',\n",
       "       'Orchid Main Camp Goubet', 'Auberge Timay Evasion',\n",
       "       'Euronova Freezer', 'Hilton Garden Inn Bartlesville', 'Lidera',\n",
       "       'LT Aparthotel', 'Arley',\n",
       "       'Four Points by Sheraton Punta Gorda Harborside',\n",
       "       'Pousada Monte Carmelo O Pão', 'Tarumã Tropical Hotel',\n",
       "       'Ахмадын амралт сувилал',\n",
       "       'Salinas do Maragogi All Inclusive Resort', 'Companionship Hotel',\n",
       "       'Hualian Hotel', 'Holiday Inn Express Walla Walla, an IHG Hotel',\n",
       "       'Hotel Santika Palu', 'Oumou Elghoura', 'Khan Palace',\n",
       "       'SULIMAN INN', 'Aktolik', 'Crowne Plaza Asuncion, an IHG Hotel',\n",
       "       'Hotel Kununurra', 'ALETHEIA Appartement Sinnamary'], dtype=object)"
      ]
     },
     "execution_count": 38,
     "metadata": {},
     "output_type": "execute_result"
    }
   ],
   "source": [
    "hotel_df['Hotel Name'].unique()"
   ]
  },
  {
   "cell_type": "code",
   "execution_count": 39,
   "id": "35d73cef",
   "metadata": {},
   "outputs": [
    {
     "data": {
      "text/html": [
       "<div>\n",
       "<style scoped>\n",
       "    .dataframe tbody tr th:only-of-type {\n",
       "        vertical-align: middle;\n",
       "    }\n",
       "\n",
       "    .dataframe tbody tr th {\n",
       "        vertical-align: top;\n",
       "    }\n",
       "\n",
       "    .dataframe thead th {\n",
       "        text-align: right;\n",
       "    }\n",
       "</style>\n",
       "<table border=\"1\" class=\"dataframe\">\n",
       "  <thead>\n",
       "    <tr style=\"text-align: right;\">\n",
       "      <th></th>\n",
       "      <th>City</th>\n",
       "      <th>Country</th>\n",
       "      <th>Max Temp</th>\n",
       "      <th>Lat</th>\n",
       "      <th>Lng</th>\n",
       "      <th>Hotel Name</th>\n",
       "    </tr>\n",
       "  </thead>\n",
       "  <tbody>\n",
       "    <tr>\n",
       "      <th>6</th>\n",
       "      <td>Bathsheba</td>\n",
       "      <td>BB</td>\n",
       "      <td>81.21</td>\n",
       "      <td>13.2167</td>\n",
       "      <td>-59.5167</td>\n",
       "      <td>Atlantis Hotel</td>\n",
       "    </tr>\n",
       "    <tr>\n",
       "      <th>12</th>\n",
       "      <td>Lorengau</td>\n",
       "      <td>PG</td>\n",
       "      <td>84.09</td>\n",
       "      <td>-2.0226</td>\n",
       "      <td>147.2712</td>\n",
       "      <td>Lorengau Harbourside Hotel</td>\n",
       "    </tr>\n",
       "    <tr>\n",
       "      <th>13</th>\n",
       "      <td>Tura</td>\n",
       "      <td>IN</td>\n",
       "      <td>81.43</td>\n",
       "      <td>25.5198</td>\n",
       "      <td>90.2201</td>\n",
       "      <td>Hotel RIKMAN Continental</td>\n",
       "    </tr>\n",
       "    <tr>\n",
       "      <th>15</th>\n",
       "      <td>Salalah</td>\n",
       "      <td>OM</td>\n",
       "      <td>82.49</td>\n",
       "      <td>17.0151</td>\n",
       "      <td>54.0924</td>\n",
       "      <td>HAMDAN PLAZA HOTEL SALALAH, an HTG Hotel</td>\n",
       "    </tr>\n",
       "    <tr>\n",
       "      <th>16</th>\n",
       "      <td>Hamilton</td>\n",
       "      <td>US</td>\n",
       "      <td>79.99</td>\n",
       "      <td>39.1834</td>\n",
       "      <td>-84.5333</td>\n",
       "      <td>Six Acres Bed &amp; Breakfast</td>\n",
       "    </tr>\n",
       "  </tbody>\n",
       "</table>\n",
       "</div>"
      ],
      "text/plain": [
       "         City Country  Max Temp      Lat       Lng  \\\n",
       "6   Bathsheba      BB     81.21  13.2167  -59.5167   \n",
       "12   Lorengau      PG     84.09  -2.0226  147.2712   \n",
       "13       Tura      IN     81.43  25.5198   90.2201   \n",
       "15    Salalah      OM     82.49  17.0151   54.0924   \n",
       "16   Hamilton      US     79.99  39.1834  -84.5333   \n",
       "\n",
       "                                  Hotel Name  \n",
       "6                             Atlantis Hotel  \n",
       "12                Lorengau Harbourside Hotel  \n",
       "13                  Hotel RIKMAN Continental  \n",
       "15  HAMDAN PLAZA HOTEL SALALAH, an HTG Hotel  \n",
       "16                 Six Acres Bed & Breakfast  "
      ]
     },
     "execution_count": 39,
     "metadata": {},
     "output_type": "execute_result"
    }
   ],
   "source": [
    "hotel_df.head()"
   ]
  },
  {
   "cell_type": "code",
   "execution_count": 40,
   "id": "e3681cb7",
   "metadata": {},
   "outputs": [
    {
     "data": {
      "application/vnd.jupyter.widget-view+json": {
       "model_id": "3db8572078a441b6974dcb07d525d648",
       "version_major": 2,
       "version_minor": 0
      },
      "text/plain": [
       "Figure(layout=FigureLayout(height='420px'))"
      ]
     },
     "metadata": {},
     "output_type": "display_data"
    }
   ],
   "source": [
    "# Add a heatmap of temperature for the vacation spots.\n",
    "locations = hotel_df[[\"Lat\", \"Lng\"]]\n",
    "max_temp = hotel_df[\"Max Temp\"]\n",
    "fig = gmaps.figure(center=(30.0, 31.0), zoom_level=1.5)\n",
    "heat_layer = gmaps.heatmap_layer(locations, weights=max_temp, dissipating=False,\n",
    "             max_intensity=300, point_radius=4)\n",
    "\n",
    "fig.add_layer(heat_layer)\n",
    "# Call the figure to plot the data.\n",
    "fig"
   ]
  },
  {
   "cell_type": "code",
   "execution_count": 42,
   "id": "a41fb95f",
   "metadata": {},
   "outputs": [
    {
     "data": {
      "application/vnd.jupyter.widget-view+json": {
       "model_id": "b4d8576352b84a89b2f37c86268d2d82",
       "version_major": 2,
       "version_minor": 0
      },
      "text/plain": [
       "Figure(layout=FigureLayout(height='420px'))"
      ]
     },
     "metadata": {},
     "output_type": "display_data"
    }
   ],
   "source": [
    "# Add a heatmap of temperature for the vacation spots and marker for each city.\n",
    "locations = hotel_df[[\"Lat\", \"Lng\"]]\n",
    "max_temp = hotel_df[\"Max Temp\"]\n",
    "fig = gmaps.figure(center=(30.0, 31.0), zoom_level=1.5)\n",
    "heat_layer = gmaps.heatmap_layer(locations, weights=max_temp,\n",
    "             dissipating=False, max_intensity=300, point_radius=4)\n",
    "marker_layer = gmaps.marker_layer(locations)\n",
    "fig.add_layer(heat_layer)\n",
    "fig.add_layer(marker_layer)\n",
    "# Call the figure to plot the data.\n",
    "fig"
   ]
  },
  {
   "cell_type": "code",
   "execution_count": 43,
   "id": "a1a022b5",
   "metadata": {},
   "outputs": [],
   "source": [
    "info_box_template = \"\"\"\n",
    "<dl>\n",
    "<dt>Hotel Name</dt><dd>{Hotel Name}</dd>\n",
    "<dt>City</dt><dd>{City}</dd>\n",
    "<dt>Country</dt><dd>{Country}</dd>\n",
    "<dt>Max Temp</dt><dd>{Max Temp} °F</dd>\n",
    "</dl>\n",
    "\"\"\""
   ]
  },
  {
   "cell_type": "code",
   "execution_count": 44,
   "id": "e6d80b40",
   "metadata": {},
   "outputs": [
    {
     "data": {
      "text/plain": [
       "'\\n<dl>\\n<dt>Hotel Name</dt><dd>{Hotel Name}</dd>\\n<dt>City</dt><dd>{City}</dd>\\n<dt>Country</dt><dd>{Country}</dd>\\n<dt>Max Temp</dt><dd>{Max Temp} °F</dd>\\n</dl>\\n'"
      ]
     },
     "execution_count": 44,
     "metadata": {},
     "output_type": "execute_result"
    }
   ],
   "source": [
    "# Store the DataFrame Row.\n",
    "hotel_info = [info_box_template.format(**row) for index, row in hotel_df.iterrows()]\n",
    "info_box_template"
   ]
  },
  {
   "cell_type": "code",
   "execution_count": 45,
   "id": "3e1e33ab",
   "metadata": {},
   "outputs": [
    {
     "data": {
      "application/vnd.jupyter.widget-view+json": {
       "model_id": "8f5727c812c849fd82166010eb44bdc8",
       "version_major": 2,
       "version_minor": 0
      },
      "text/plain": [
       "Figure(layout=FigureLayout(height='420px'))"
      ]
     },
     "metadata": {},
     "output_type": "display_data"
    }
   ],
   "source": [
    "# Add a heatmap of temperature for the vacation spots and a pop-up marker for each city.\n",
    "locations = hotel_df[[\"Lat\", \"Lng\"]]\n",
    "max_temp = hotel_df[\"Max Temp\"]\n",
    "fig = gmaps.figure(center=(30.0, 31.0), zoom_level=1.5)\n",
    "heat_layer = gmaps.heatmap_layer(locations, weights=max_temp,dissipating=False,\n",
    "             max_intensity=300, point_radius=4)\n",
    "marker_layer = gmaps.marker_layer(locations, info_box_content=hotel_info)\n",
    "fig.add_layer(heat_layer)\n",
    "fig.add_layer(marker_layer)\n",
    "\n",
    "# Call the figure to plot the data.\n",
    "fig"
   ]
  },
  {
   "cell_type": "code",
   "execution_count": null,
   "id": "48b1436a",
   "metadata": {},
   "outputs": [],
   "source": []
  }
 ],
 "metadata": {
  "kernelspec": {
   "display_name": "Python 3 (ipykernel)",
   "language": "python",
   "name": "python3"
  },
  "language_info": {
   "codemirror_mode": {
    "name": "ipython",
    "version": 3
   },
   "file_extension": ".py",
   "mimetype": "text/x-python",
   "name": "python",
   "nbconvert_exporter": "python",
   "pygments_lexer": "ipython3",
   "version": "3.9.7"
  }
 },
 "nbformat": 4,
 "nbformat_minor": 5
}
