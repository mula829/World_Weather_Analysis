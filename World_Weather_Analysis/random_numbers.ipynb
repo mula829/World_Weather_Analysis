{
 "cells": [
  {
   "cell_type": "code",
   "execution_count": 1,
   "id": "bbc210bc-8800-4b07-beb0-5b70032255be",
   "metadata": {},
   "outputs": [],
   "source": [
    "# Import the random module.\n",
    "import random"
   ]
  },
  {
   "cell_type": "code",
   "execution_count": 3,
   "id": "bfe0035a-d413-4a87-944f-e9f804c3bd91",
   "metadata": {},
   "outputs": [
    {
     "data": {
      "text/plain": [
       "0.22772990502527302"
      ]
     },
     "execution_count": 3,
     "metadata": {},
     "output_type": "execute_result"
    }
   ],
   "source": [
    "random.random()"
   ]
  },
  {
   "cell_type": "code",
   "execution_count": 4,
   "id": "49455a07-410e-4168-8d3c-5b0acafa62c0",
   "metadata": {},
   "outputs": [
    {
     "data": {
      "text/plain": [
       "-59"
      ]
     },
     "execution_count": 4,
     "metadata": {},
     "output_type": "execute_result"
    }
   ],
   "source": [
    "random.randint(-90, 90)"
   ]
  },
  {
   "cell_type": "code",
   "execution_count": 5,
   "id": "b24fcc71-ec90-4dea-ba08-8386639528b1",
   "metadata": {},
   "outputs": [
    {
     "data": {
      "text/plain": [
       "-41.65067629303937"
      ]
     },
     "execution_count": 5,
     "metadata": {},
     "output_type": "execute_result"
    }
   ],
   "source": [
    "random_number= random.randint(-90,89) + random.random()\n",
    "random_number"
   ]
  },
  {
   "cell_type": "code",
   "execution_count": 8,
   "id": "b5cb05fc-dab9-4d11-a0f7-5d54eedda25f",
   "metadata": {},
   "outputs": [
    {
     "name": "stdout",
     "output_type": "stream",
     "text": [
      "[-75.58880025569863, 30.989115276947988, -3.4830926923971632, 11.718704422719707, 10.053698211808333, -77.75174444220278, 85.65310245550116, 45.12021942754384, -6.044760875854957, -32.053440859229674]\n"
     ]
    }
   ],
   "source": [
    "x = 1\n",
    "latitudes = []\n",
    "while x < 11:\n",
    "    random_lat = random.randint(-90, 89) + random.random()\n",
    "    latitudes.append(random_lat)\n",
    "    x += 1\n",
    "print(latitudes)"
   ]
  },
  {
   "cell_type": "code",
   "execution_count": 12,
   "id": "beb085c8-cbde-486e-b0ac-3946ef1f1130",
   "metadata": {},
   "outputs": [
    {
     "data": {
      "text/plain": [
       "-28"
      ]
     },
     "execution_count": 12,
     "metadata": {},
     "output_type": "execute_result"
    }
   ],
   "source": [
    "random.randrange(-90, 90, step=1)"
   ]
  },
  {
   "cell_type": "code",
   "execution_count": 13,
   "id": "87de3e31-1232-486d-ab0b-78cfcc956d24",
   "metadata": {},
   "outputs": [
    {
     "data": {
      "text/plain": [
       "-39"
      ]
     },
     "execution_count": 13,
     "metadata": {},
     "output_type": "execute_result"
    }
   ],
   "source": [
    "random.randrange(-90, 90, step=3)"
   ]
  },
  {
   "cell_type": "code",
   "execution_count": 14,
   "id": "62424ea4-3232-41a8-b39b-d54b0a39d7d0",
   "metadata": {},
   "outputs": [
    {
     "data": {
      "text/plain": [
       "17.61703325926365"
      ]
     },
     "execution_count": 14,
     "metadata": {},
     "output_type": "execute_result"
    }
   ],
   "source": [
    "random.uniform(-90, 90)"
   ]
  },
  {
   "cell_type": "code",
   "execution_count": 15,
   "id": "22961c47-d7f4-4e18-ad79-81a427baf494",
   "metadata": {},
   "outputs": [],
   "source": [
    "# Import the NumPy module.\n",
    "import numpy as np"
   ]
  },
  {
   "cell_type": "code",
   "execution_count": 16,
   "id": "76b06037-c7f6-486d-b2f1-ccf1aa0245b7",
   "metadata": {},
   "outputs": [
    {
     "data": {
      "text/plain": [
       "-64.7569562787188"
      ]
     },
     "execution_count": 16,
     "metadata": {},
     "output_type": "execute_result"
    }
   ],
   "source": [
    "np.random.uniform(-90.000, 90.000)"
   ]
  },
  {
   "cell_type": "code",
   "execution_count": 17,
   "id": "2d74860f-3f8e-4df7-88d2-e455eecd69b3",
   "metadata": {},
   "outputs": [
    {
     "data": {
      "text/plain": [
       "26.679382106955032"
      ]
     },
     "execution_count": 17,
     "metadata": {},
     "output_type": "execute_result"
    }
   ],
   "source": [
    "#parameters\n",
    "np.random.uniform(low=-90, high=90)"
   ]
  },
  {
   "cell_type": "code",
   "execution_count": 21,
   "id": "2458baf8-3db9-47f1-a21e-6ccd987f8c1b",
   "metadata": {},
   "outputs": [
    {
     "data": {
      "text/plain": [
       "array([-68.22011302,   6.2294581 ,  26.18707189,  42.95082414,\n",
       "         6.13163067,  19.76656496,  68.12209583,  43.58194998,\n",
       "        38.54327005,  36.80841325, -83.24512256,  39.73545708,\n",
       "        72.35914282,  61.4430407 ,  66.66097879, -25.03217308,\n",
       "       -39.33746268,  63.30811288,  -9.82508734, -62.3627711 ,\n",
       "        32.3386054 ,  51.14258891, -45.1010783 ,  37.85600052,\n",
       "        36.12348871,  69.75181387,  57.13203026,  47.52992932,\n",
       "        11.80643836,  75.29768297,  84.22766312, -43.4118556 ,\n",
       "        31.8937236 ,  36.62008431, -76.58384943,  28.56157121,\n",
       "       -29.97099811,  37.75480933,  84.05864789,  -4.09646894,\n",
       "        65.96992582, -45.91636441,  40.37936151,  21.54205681,\n",
       "       -24.06081868, -33.40674572, -16.92140921, -52.00146216,\n",
       "        69.34544445,  51.34590502])"
      ]
     },
     "execution_count": 21,
     "metadata": {},
     "output_type": "execute_result"
    }
   ],
   "source": [
    "np.random.uniform(-90.000, 90.000, size=50)"
   ]
  },
  {
   "cell_type": "code",
   "execution_count": 22,
   "id": "bcfd0cbd-7251-4f9a-96c1-7aa48976978b",
   "metadata": {},
   "outputs": [],
   "source": [
    "# Import timeit.\n",
    "import timeit"
   ]
  },
  {
   "cell_type": "code",
   "execution_count": 24,
   "id": "6eb3e0c0-45b3-40aa-850e-7dab61bfe9cd",
   "metadata": {},
   "outputs": [
    {
     "name": "stdout",
     "output_type": "stream",
     "text": [
      "25.1 µs ± 1.02 µs per loop (mean ± std. dev. of 7 runs, 10000 loops each)\n"
     ]
    }
   ],
   "source": [
    "%timeit np.random.uniform(-90.000, 90.000, size=1500)"
   ]
  },
  {
   "cell_type": "code",
   "execution_count": 25,
   "id": "0e93a635-b37a-46fa-8c5d-4fa545f8ca7a",
   "metadata": {},
   "outputs": [
    {
     "name": "stdout",
     "output_type": "stream",
     "text": [
      "2.63 ms ± 188 µs per loop (mean ± std. dev. of 7 runs, 100 loops each)\n"
     ]
    }
   ],
   "source": [
    "def latitudes(size):\n",
    "    latitudes = []\n",
    "    x = 0\n",
    "    while x < (size):\n",
    "        random_lat = random.randint(-90, 90) + random.random()\n",
    "        latitudes.append(random_lat)\n",
    "        x += 1\n",
    "    return latitudes\n",
    "# Call the function with 1500.\n",
    "%timeit latitudes(1500)"
   ]
  },
  {
   "cell_type": "code",
   "execution_count": null,
   "id": "cbb4a59e-63f4-4df4-83df-8e53311c2ee6",
   "metadata": {},
   "outputs": [],
   "source": []
  }
 ],
 "metadata": {
  "kernelspec": {
   "display_name": "Python 3 (ipykernel)",
   "language": "python",
   "name": "python3"
  },
  "language_info": {
   "codemirror_mode": {
    "name": "ipython",
    "version": 3
   },
   "file_extension": ".py",
   "mimetype": "text/x-python",
   "name": "python",
   "nbconvert_exporter": "python",
   "pygments_lexer": "ipython3",
   "version": "3.9.7"
  }
 },
 "nbformat": 4,
 "nbformat_minor": 5
}
